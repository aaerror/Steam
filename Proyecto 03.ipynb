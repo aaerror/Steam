{
 "cells": [
  {
   "cell_type": "markdown",
   "metadata": {
    "toc": true
   },
   "source": [
    "<h1>Table of Contents<span class=\"tocSkip\"></span></h1>\n",
    "<div class=\"toc\"><ul class=\"toc-item\"><li><span><a href=\"#Proyecto-03---Sistemas-de-Recomendación\" data-toc-modified-id=\"Proyecto-03---Sistemas-de-Recomendación-1\"><span class=\"toc-item-num\">1&nbsp;&nbsp;</span>Proyecto 03 - Sistemas de Recomendación</a></span><ul class=\"toc-item\"><li><span><a href=\"#Dataset:-STEAM\" data-toc-modified-id=\"Dataset:-STEAM-1.1\"><span class=\"toc-item-num\">1.1&nbsp;&nbsp;</span>Dataset: STEAM</a></span><ul class=\"toc-item\"><li><span><a href=\"#Exploración-de-datos\" data-toc-modified-id=\"Exploración-de-datos-1.1.1\"><span class=\"toc-item-num\">1.1.1&nbsp;&nbsp;</span>Exploración de datos</a></span></li><li><span><a href=\"#Filtro-Colaborativo\" data-toc-modified-id=\"Filtro-Colaborativo-1.1.2\"><span class=\"toc-item-num\">1.1.2&nbsp;&nbsp;</span>Filtro Colaborativo</a></span></li><li><span><a href=\"#Para-pensar,-investigar-y,-opcionalmente,-implementar\" data-toc-modified-id=\"Para-pensar,-investigar-y,-opcionalmente,-implementar-1.1.3\"><span class=\"toc-item-num\">1.1.3&nbsp;&nbsp;</span>Para pensar, investigar y, opcionalmente, implementar</a></span></li><li><span><a href=\"#¡Tómate-tiempo-para-investigar-y-leer-mucho!\" data-toc-modified-id=\"¡Tómate-tiempo-para-investigar-y-leer-mucho!-1.1.4\"><span class=\"toc-item-num\">1.1.4&nbsp;&nbsp;</span><strong>¡Tómate tiempo para investigar y leer mucho!</strong></a></span></li></ul></li></ul></li></ul></div>"
   ]
  },
  {
   "cell_type": "markdown",
   "metadata": {
    "colab_type": "text",
    "id": "gzJLet17WTzh"
   },
   "source": [
    "# Proyecto 03 - Sistemas de Recomendación\n",
    "\n",
    "## Dataset: STEAM\n",
    "\n",
    "**Recuerda descargar el dataset de [aquí](https://github.com/kang205/SASRec). Son dos archivos, uno de calificaciones y otro de información sobre los juegos.**\n",
    "\n",
    "En este notebook te dejamos unas celdas para que puedas comenzar a trabajar con este dataset. Sin embargo, **deberás** modificarlas para hacer un mejor manejo de datos. Algunas cosas a las que deberás prestar atención (tal vez no a todas):\n",
    "1. Tipos de datos: elige tipos de datos apropiados para cada columna.\n",
    "2. Descartar columnas poco informativas.\n",
    "3. Guardar en memoria datasets preprocesados para no tener que repetir código que tarde en correr.\n",
    "\n",
    "### Exploración de datos\n",
    "\n",
    "Dedícale un buen tiempo a hacer un Análisis Exploratorio de Datos. Elige preguntas que creas que puedas responder con este dataset. Por ejemplo, ¿cuáles son los juegos más populares? ¿Y los menos populares?\n",
    "\n",
    "### Filtro Colaborativo\n",
    "\n",
    "Deberás implementar un sistema de recomendación colaborativo para este dataset. Ten en cuenta:\n",
    "\n",
    "1. Haz todas las transformaciones de datos que consideres necesarias. Justifica.\n",
    "1. Evalúa de forma apropiada sus resultados. Justifica la métrica elegida.\n",
    "1. Elige un modelo benchmark y compara tus resultados con este modelo.\n",
    "1. Optimiza los hiperparámetros de tu modelo.\n",
    "\n",
    "Puedes implementar un filtro colaborativo a partir de la similitud coseno o índice de Jaccard. ¿Puedes utilizar los métodos de la librería Surprise? Si no es así, busca implementaciones (por ejemplo, nuevas librerías) que sean apropiadas.\n",
    "\n",
    "Para comenzar a trabajar, puedes asumir que cada entrada es un enlace entre una persona usuaria y un item, **independientemente** de si la crítica es buena o mala. \n",
    "\n",
    "### Para pensar, investigar y, opcionalmente, implementar\n",
    "1. ¿Cómo harías para ponerle un valor a la calificación?\n",
    "1. ¿Cómo harías para agregar contenido? Por ejemplo, cuentas con el género, precio, fecha de lanzamiento y más información de los juegos.\n",
    "1. ¿Hay algo que te gustaría investigar o probar?\n",
    "\n",
    "### **¡Tómate tiempo para investigar y leer mucho!**"
   ]
  },
  {
   "cell_type": "code",
   "execution_count": null,
   "metadata": {
    "colab": {},
    "colab_type": "code",
    "id": "lWZhtUxEWTzj"
   },
   "outputs": [],
   "source": [
    "import gc\n",
    "import gzip\n",
    "import matplotlib.pyplot as plt\n",
    "import pandas as pd\n",
    "import seaborn as sns\n",
    "sns.set()\n",
    "\n",
    "def parse(path):\n",
    "    g = gzip.open(path, \"r\")\n",
    "    for l in g:\n",
    "        yield eval(l)"
   ]
  },
  {
   "cell_type": "markdown",
   "metadata": {
    "colab_type": "text",
    "id": "BmEM25k4WTzw"
   },
   "source": [
    "**Reviews**"
   ]
  },
  {
   "cell_type": "code",
   "execution_count": null,
   "metadata": {
    "colab": {},
    "colab_type": "code",
    "id": "abAXItn1WTz0"
   },
   "outputs": [],
   "source": [
    "contador = 0\n",
    "data_reviews = []\n",
    "# Vamos a guardar una de cada 10 reviews para no llenar la memoria RAM. Si pones n=3, \n",
    "# abrira uno de cada tres, y asi.\n",
    "n = 10\n",
    "for l in parse(\".\\Proyectos\\Proyecto III\\steam_reviews.json.gz\"):\n",
    "    if contador%n == 0:\n",
    "        data_reviews.append(l)\n",
    "    else:\n",
    "        pass\n",
    "    contador += 1"
   ]
  },
  {
   "cell_type": "markdown",
   "metadata": {},
   "source": [
    "Cargamos el dataset y elegimos algunas columnas a utilizar."
   ]
  },
  {
   "cell_type": "code",
   "execution_count": null,
   "metadata": {
    "colab": {},
    "colab_type": "code",
    "id": "7GovAZQBWTz8"
   },
   "outputs": [],
   "source": [
    "#data_reviews = pd.DataFrame(data_reviews, columns=[\"username\", \"product_id\", \"early_access\",\n",
    "#                                                   \"hours\", \"date\"])\n",
    "data_reviews = pd.DataFrame(data_reviews)\n",
    "reviews = data_reviews.copy()\n",
    "reviews.head()"
   ]
  },
  {
   "cell_type": "code",
   "execution_count": null,
   "metadata": {},
   "outputs": [],
   "source": [
    "reviews.isna().sum()"
   ]
  },
  {
   "cell_type": "markdown",
   "metadata": {},
   "source": [
    "Buscamos duplicados"
   ]
  },
  {
   "cell_type": "code",
   "execution_count": null,
   "metadata": {
    "tags": []
   },
   "outputs": [],
   "source": [
    "mask = reviews.duplicated()\n",
    "print(\"DUPLICADOS\")\n",
    "reviews[mask]"
   ]
  },
  {
   "cell_type": "code",
   "execution_count": null,
   "metadata": {},
   "outputs": [],
   "source": [
    "name = \"Spicy Michael\"\n",
    "reviews.query(\"username ==  @name\")"
   ]
  },
  {
   "cell_type": "markdown",
   "metadata": {},
   "source": [
    "Eliminamos los duplicados y vemos cantidad de usuarios y de juegos a analizados."
   ]
  },
  {
   "cell_type": "code",
   "execution_count": null,
   "metadata": {
    "colab": {},
    "colab_type": "code",
    "id": "j24F0ZaYWT0E",
    "tags": []
   },
   "outputs": [],
   "source": [
    "reviews.drop_duplicates(inplace=True)\n",
    "print(\"Total de juegos:\", reviews.product_id.value_counts().count())\n",
    "print(\"Total de usuarios:\", reviews.username.value_counts().count())"
   ]
  },
  {
   "cell_type": "code",
   "execution_count": null,
   "metadata": {
    "colab": {},
    "colab_type": "code",
    "id": "8F-EVRZ4WT0L",
    "tags": []
   },
   "outputs": [],
   "source": [
    "reviews.isna().sum()"
   ]
  },
  {
   "cell_type": "markdown",
   "metadata": {},
   "source": [
    "Graficamos proporción de juegos con acceso anticipado."
   ]
  },
  {
   "cell_type": "code",
   "execution_count": null,
   "metadata": {
    "tags": []
   },
   "outputs": [],
   "source": [
    "plt.figure(figsize=(15,5))\n",
    "sns.countplot(x=data_reviews[\"early_access\"])\n",
    "plt.title(\"ACCESO ANTICIPADO\", fontsize=15, fontweight=\"bold\")\n",
    "plt.tick_params(labelsize=15)\n",
    "plt.xlabel(\"Early acces\".upper(), labelpad=15)\n",
    "plt.ylabel(\"Cantidad\".upper(), labelpad=15)\n",
    "plt.show()"
   ]
  },
  {
   "cell_type": "markdown",
   "metadata": {},
   "source": [
    "Establecemos algunas consultas para entender un poco más el dataset. agrupamos usuarios y calculamos las horas destinadas a jugar."
   ]
  },
  {
   "cell_type": "code",
   "execution_count": null,
   "metadata": {
    "tags": []
   },
   "outputs": [],
   "source": [
    "# Cantidad de usuarios sin horas cargadas\n",
    "horas_null = len(reviews.query(\"hours.isnull()\", engine=\"python\"))\n",
    "horas_cero = len(reviews.query(\"hours == 0\", engine=\"python\"))\n",
    "print(f\"Hay { horas_cero } de usuarios sin horas cargadas y { horas_null } de usuarios sin registro en horas.\")"
   ]
  },
  {
   "cell_type": "code",
   "execution_count": null,
   "metadata": {},
   "outputs": [],
   "source": [
    "reviews.groupby(\"username\").agg(total_juegos=pd.NamedAgg(column=\"product_id\", aggfunc=\"count\"),\n",
    "                                total_horas=pd.NamedAgg(column=\"hours\", aggfunc=\"sum\"),\n",
    "                                total_comentarios=pd.NamedAgg(column=\"text\", aggfunc=\"count\"))\\\n",
    "                                .sort_values(\"total_comentarios\", ascending=False)"
   ]
  },
  {
   "cell_type": "code",
   "execution_count": null,
   "metadata": {},
   "outputs": [],
   "source": [
    "reviews.groupby(\"product_id\").agg(total_usuarios=pd.NamedAgg(column=\"username\", aggfunc=\"count\"),\n",
    "                                  total_comentarios=pd.NamedAgg(column=\"text\", aggfunc=\"count\"))\\\n",
    "                                  .sort_values(\"total_usuarios\", ascending=False)"
   ]
  },
  {
   "cell_type": "code",
   "execution_count": null,
   "metadata": {},
   "outputs": [],
   "source": [
    "reviews.groupby(\"product_id\").agg(total_usuarios=pd.NamedAgg(column=\"username\", aggfunc=\"count\"),\n",
    "                                  total_horas=pd.NamedAgg(column=\"hours\", aggfunc=\"sum\"),\n",
    "                                  total_comentarios=pd.NamedAgg(column=\"text\", aggfunc=\"count\"))\\\n",
    "                                  .sort_values(\"total_usuarios\", ascending=False)"
   ]
  },
  {
   "cell_type": "code",
   "execution_count": null,
   "metadata": {},
   "outputs": [],
   "source": []
  },
  {
   "cell_type": "markdown",
   "metadata": {
    "colab_type": "text",
    "id": "04ed3teRWT0T"
   },
   "source": [
    "**Games**"
   ]
  },
  {
   "cell_type": "code",
   "execution_count": null,
   "metadata": {
    "colab": {},
    "colab_type": "code",
    "id": "8wRb24Y5WT0U"
   },
   "outputs": [],
   "source": [
    "data_games = []\n",
    "for games in parse(\".\\Proyectos\\Proyecto III\\steam_games.json.gz\"):\n",
    "    data_games.append(games)\n",
    "#data_games = pd.DataFrame(data_games, columns=[ \"id\", \"app_name\", \"tags\", \"specs\", \"early_access\", \"sentiment\", \"metascore\", \"price\" ])"
   ]
  },
  {
   "cell_type": "markdown",
   "metadata": {},
   "source": [
    "Cargamos el dataset e imprimimos su ```head```."
   ]
  },
  {
   "cell_type": "code",
   "execution_count": null,
   "metadata": {
    "colab": {},
    "colab_type": "code",
    "id": "sVR0Cs6SWT0b",
    "tags": []
   },
   "outputs": [],
   "source": [
    "data_games = pd.DataFrame(data_games)\n",
    "games = data_games.copy()\n",
    "games.head()"
   ]
  },
  {
   "cell_type": "markdown",
   "metadata": {},
   "source": [
    "Eliminamos las columnas innecesarias y buscamos los valores nulos."
   ]
  },
  {
   "cell_type": "code",
   "execution_count": null,
   "metadata": {},
   "outputs": [],
   "source": [
    "games.drop(columns=[\"publisher\", \"genres\", \"url\", \"reviews_url\", \"sentiment\", \"metascore\"], inplace=True)"
   ]
  },
  {
   "cell_type": "markdown",
   "metadata": {},
   "source": [
    "**Duplicados**"
   ]
  },
  {
   "cell_type": "code",
   "execution_count": null,
   "metadata": {
    "tags": []
   },
   "outputs": [],
   "source": [
    "duplicados = len(games[games.drop(columns=[\"tags\", \"specs\"]).duplicated()])\n",
    "print(f\"Total de registros duplicados: { duplicados }\")\n",
    "id = \"612880\"\n",
    "games.query(\"id == @id\")"
   ]
  },
  {
   "cell_type": "code",
   "execution_count": null,
   "metadata": {},
   "outputs": [],
   "source": [
    "games.drop([14573], axis=0, inplace=True)"
   ]
  },
  {
   "cell_type": "markdown",
   "metadata": {},
   "source": [
    "Es importante remarcar que el ```id``` es la columna que no debemos dejar nula, junto a ```app_name```. Estas son las que nos van a vincular los dos dataset."
   ]
  },
  {
   "cell_type": "code",
   "execution_count": null,
   "metadata": {},
   "outputs": [],
   "source": [
    "games.isna().sum()"
   ]
  },
  {
   "cell_type": "markdown",
   "metadata": {},
   "source": [
    "Buscamos los nulos de **id** y **app_name**"
   ]
  },
  {
   "cell_type": "code",
   "execution_count": null,
   "metadata": {},
   "outputs": [],
   "source": [
    "games.query('app_name.isna() | id.isna()', engine='python')"
   ]
  },
  {
   "cell_type": "code",
   "execution_count": null,
   "metadata": {},
   "outputs": [],
   "source": [
    "games.groupby(\"developer\").agg(juegos_publicados=pd.NamedAgg(column=\"early_access\", aggfunc=\"count\")).sort_values(\"juegos_publicados\", ascending=False)\n"
   ]
  }
 ],
 "metadata": {
  "colab": {
   "collapsed_sections": [],
   "name": "DS_Proyecto_03_SR.ipynb",
   "provenance": []
  },
  "kernelspec": {
   "display_name": "Python 3",
   "language": "python",
   "name": "python3"
  },
  "language_info": {
   "codemirror_mode": {
    "name": "ipython",
    "version": 3
   },
   "file_extension": ".py",
   "mimetype": "text/x-python",
   "name": "python",
   "nbconvert_exporter": "python",
   "pygments_lexer": "ipython3",
   "version": "3.8.5-final"
  },
  "toc": {
   "base_numbering": 1,
   "nav_menu": {},
   "number_sections": true,
   "sideBar": true,
   "skip_h1_title": false,
   "title_cell": "Table of Contents",
   "title_sidebar": "Contents",
   "toc_cell": true,
   "toc_position": {},
   "toc_section_display": true,
   "toc_window_display": false
  }
 },
 "nbformat": 4,
 "nbformat_minor": 1
}