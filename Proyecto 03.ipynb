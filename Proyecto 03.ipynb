{
 "cells": [
  {
   "cell_type": "markdown",
   "metadata": {
    "toc": true
   },
   "source": [
    "<h1>Table of Contents<span class=\"tocSkip\"></span></h1>\n",
    "<div class=\"toc\"><ul class=\"toc-item\"><li><span><a href=\"#Proyecto-03---Sistemas-de-Recomendación\" data-toc-modified-id=\"Proyecto-03---Sistemas-de-Recomendación-1\"><span class=\"toc-item-num\">1&nbsp;&nbsp;</span>Proyecto 03 - Sistemas de Recomendación</a></span><ul class=\"toc-item\"><li><span><a href=\"#Dataset:-STEAM\" data-toc-modified-id=\"Dataset:-STEAM-1.1\"><span class=\"toc-item-num\">1.1&nbsp;&nbsp;</span>Dataset: STEAM</a></span><ul class=\"toc-item\"><li><span><a href=\"#Exploración-de-datos\" data-toc-modified-id=\"Exploración-de-datos-1.1.1\"><span class=\"toc-item-num\">1.1.1&nbsp;&nbsp;</span>Exploración de datos</a></span></li><li><span><a href=\"#Filtro-Colaborativo\" data-toc-modified-id=\"Filtro-Colaborativo-1.1.2\"><span class=\"toc-item-num\">1.1.2&nbsp;&nbsp;</span>Filtro Colaborativo</a></span></li><li><span><a href=\"#Para-pensar,-investigar-y,-opcionalmente,-implementar\" data-toc-modified-id=\"Para-pensar,-investigar-y,-opcionalmente,-implementar-1.1.3\"><span class=\"toc-item-num\">1.1.3&nbsp;&nbsp;</span>Para pensar, investigar y, opcionalmente, implementar</a></span></li><li><span><a href=\"#¡Tómate-tiempo-para-investigar-y-leer-mucho!\" data-toc-modified-id=\"¡Tómate-tiempo-para-investigar-y-leer-mucho!-1.1.4\"><span class=\"toc-item-num\">1.1.4&nbsp;&nbsp;</span><strong>¡Tómate tiempo para investigar y leer mucho!</strong></a></span></li></ul></li></ul></li></ul></div>"
   ]
  },
  {
   "cell_type": "markdown",
   "metadata": {
    "colab_type": "text",
    "id": "gzJLet17WTzh"
   },
   "source": [
    "# Proyecto 03 - Sistemas de Recomendación\n",
    "\n",
    "## Dataset: STEAM\n",
    "\n",
    "**Recuerda descargar el dataset de [aquí](https://github.com/kang205/SASRec). Son dos archivos, uno de calificaciones y otro de información sobre los juegos.**\n",
    "\n",
    "En este notebook te dejamos unas celdas para que puedas comenzar a trabajar con este dataset. Sin embargo, **deberás** modificarlas para hacer un mejor manejo de datos. Algunas cosas a las que deberás prestar atención (tal vez no a todas):\n",
    "1. Tipos de datos: elige tipos de datos apropiados para cada columna.\n",
    "2. Descartar columnas poco informativas.\n",
    "3. Guardar en memoria datasets preprocesados para no tener que repetir código que tarde en correr.\n",
    "\n",
    "### Exploración de datos\n",
    "\n",
    "Dedícale un buen tiempo a hacer un Análisis Exploratorio de Datos. Elige preguntas que creas que puedas responder con este dataset. Por ejemplo, ¿cuáles son los juegos más populares? ¿Y los menos populares?\n",
    "\n",
    "### Filtro Colaborativo\n",
    "\n",
    "Deberás implementar un sistema de recomendación colaborativo para este dataset. Ten en cuenta:\n",
    "\n",
    "1. Haz todas las transformaciones de datos que consideres necesarias. Justifica.\n",
    "1. Evalúa de forma apropiada sus resultados. Justifica la métrica elegida.\n",
    "1. Elige un modelo benchmark y compara tus resultados con este modelo.\n",
    "1. Optimiza los hiperparámetros de tu modelo.\n",
    "\n",
    "Puedes implementar un filtro colaborativo a partir de la similitud coseno o índice de Jaccard. ¿Puedes utilizar los métodos de la librería Surprise? Si no es así, busca implementaciones (por ejemplo, nuevas librerías) que sean apropiadas.\n",
    "\n",
    "Para comenzar a trabajar, puedes asumir que cada entrada es un enlace entre una persona usuaria y un item, **independientemente** de si la crítica es buena o mala. \n",
    "\n",
    "### Para pensar, investigar y, opcionalmente, implementar\n",
    "1. ¿Cómo harías para ponerle un valor a la calificación?\n",
    "1. ¿Cómo harías para agregar contenido? Por ejemplo, cuentas con el género, precio, fecha de lanzamiento y más información de los juegos.\n",
    "1. ¿Hay algo que te gustaría investigar o probar?\n",
    "\n",
    "### **¡Tómate tiempo para investigar y leer mucho!**"
   ]
  },
  {
   "cell_type": "code",
   "execution_count": 2,
   "metadata": {
    "colab": {},
    "colab_type": "code",
    "id": "lWZhtUxEWTzj"
   },
   "outputs": [],
   "source": [
    "import gc\n",
    "import gzip\n",
    "import matplotlib.pyplot as plt\n",
    "import pandas as pd\n",
    "import seaborn as sns\n",
    "sns.set()\n",
    "\n",
    "def parse(path):\n",
    "    g = gzip.open(path, \"r\")\n",
    "    for l in g:\n",
    "        yield eval(l)"
   ]
  },
  {
   "cell_type": "markdown",
   "metadata": {
    "colab_type": "text",
    "id": "BmEM25k4WTzw"
   },
   "source": [
    "**Reviews**"
   ]
  },
  {
   "cell_type": "code",
   "execution_count": null,
   "metadata": {
    "colab": {},
    "colab_type": "code",
    "id": "abAXItn1WTz0"
   },
   "outputs": [],
   "source": [
    "contador = 0\n",
    "data_reviews = []\n",
    "# Vamos a guardar una de cada 10 reviews para no llenar la memoria RAM. Si pones n=3, \n",
    "# abrira uno de cada tres, y asi.\n",
    "n = 10\n",
    "for l in parse(\".\\Proyectos\\Proyecto III\\steam_reviews.json.gz\"):\n",
    "    if contador%n == 0:\n",
    "        data_reviews.append(l)\n",
    "    else:\n",
    "        pass\n",
    "    contador += 1"
   ]
  },
  {
   "cell_type": "markdown",
   "metadata": {},
   "source": [
    "Cargamos el dataset y elegimos algunas columnas a utilizar."
   ]
  },
  {
   "cell_type": "code",
   "execution_count": null,
   "metadata": {
    "colab": {},
    "colab_type": "code",
    "id": "7GovAZQBWTz8"
   },
   "outputs": [],
   "source": [
    "#data_reviews = pd.DataFrame(data_reviews, columns=[\"username\", \"product_id\", \"early_access\",\n",
    "#                                                   \"hours\", \"date\"])\n",
    "data_reviews = pd.DataFrame(data_reviews)\n",
    "reviews = data_reviews.copy()\n",
    "reviews.head()"
   ]
  },
  {
   "cell_type": "code",
   "execution_count": null,
   "metadata": {},
   "outputs": [],
   "source": [
    "reviews.isna().sum()"
   ]
  },
  {
   "cell_type": "markdown",
   "metadata": {},
   "source": [
    "Buscamos duplicados"
   ]
  },
  {
   "cell_type": "code",
   "execution_count": null,
   "metadata": {
    "tags": []
   },
   "outputs": [],
   "source": [
    "mask = reviews.duplicated()\n",
    "print(\"DUPLICADOS\")\n",
    "reviews[mask]"
   ]
  },
  {
   "cell_type": "code",
   "execution_count": null,
   "metadata": {},
   "outputs": [],
   "source": [
    "name = \"Spicy Michael\"\n",
    "reviews.query(\"username ==  @name\")"
   ]
  },
  {
   "cell_type": "markdown",
   "metadata": {},
   "source": [
    "Eliminamos los duplicados y vemos cantidad de usuarios y de juegos a analizados."
   ]
  },
  {
   "cell_type": "code",
   "execution_count": null,
   "metadata": {
    "colab": {},
    "colab_type": "code",
    "id": "j24F0ZaYWT0E",
    "tags": []
   },
   "outputs": [],
   "source": [
    "reviews.drop_duplicates(inplace=True)\n",
    "print(\"Total de juegos:\", reviews.product_id.value_counts().count())\n",
    "print(\"Total de usuarios:\", reviews.username.value_counts().count())"
   ]
  },
  {
   "cell_type": "code",
   "execution_count": null,
   "metadata": {
    "colab": {},
    "colab_type": "code",
    "id": "8F-EVRZ4WT0L",
    "tags": []
   },
   "outputs": [],
   "source": [
    "reviews.isna().sum()"
   ]
  },
  {
   "cell_type": "markdown",
   "metadata": {},
   "source": [
    "Graficamos proporción de juegos con acceso anticipado."
   ]
  },
  {
   "cell_type": "code",
   "execution_count": null,
   "metadata": {
    "tags": []
   },
   "outputs": [],
   "source": [
    "plt.figure(figsize=(15,5))\n",
    "sns.countplot(x=data_reviews[\"early_access\"])\n",
    "plt.title(\"ACCESO ANTICIPADO\", fontsize=15, fontweight=\"bold\")\n",
    "plt.tick_params(labelsize=15)\n",
    "plt.xlabel(\"Early acces\".upper(), labelpad=15)\n",
    "plt.ylabel(\"Cantidad\".upper(), labelpad=15)\n",
    "plt.show()"
   ]
  },
  {
   "cell_type": "markdown",
   "metadata": {},
   "source": [
    "Establecemos algunas consultas para entender un poco más el dataset. agrupamos usuarios y calculamos las horas destinadas a jugar."
   ]
  },
  {
   "cell_type": "code",
   "execution_count": null,
   "metadata": {
    "tags": []
   },
   "outputs": [],
   "source": [
    "# Cantidad de usuarios sin horas cargadas\n",
    "horas_null = len(reviews.query(\"hours.isnull()\", engine=\"python\"))\n",
    "horas_cero = len(reviews.query(\"hours == 0\", engine=\"python\"))\n",
    "print(f\"Hay { horas_cero } de usuarios sin horas cargadas y { horas_null } de usuarios sin registro en horas.\")"
   ]
  },
  {
   "cell_type": "code",
   "execution_count": null,
   "metadata": {},
   "outputs": [],
   "source": [
    "reviews.groupby(\"username\").agg(total_juegos=pd.NamedAgg(column=\"product_id\", aggfunc=\"count\"),\n",
    "                                total_horas=pd.NamedAgg(column=\"hours\", aggfunc=\"sum\"),\n",
    "                                total_comentarios=pd.NamedAgg(column=\"text\", aggfunc=\"count\"))\\\n",
    "                                .sort_values(\"total_comentarios\", ascending=False)"
   ]
  },
  {
   "cell_type": "code",
   "execution_count": null,
   "metadata": {},
   "outputs": [],
   "source": [
    "reviews.groupby(\"product_id\").agg(total_usuarios=pd.NamedAgg(column=\"username\", aggfunc=\"count\"),\n",
    "                                  total_comentarios=pd.NamedAgg(column=\"text\", aggfunc=\"count\"))\\\n",
    "                                  .sort_values(\"total_usuarios\", ascending=False)"
   ]
  },
  {
   "cell_type": "code",
   "execution_count": null,
   "metadata": {},
   "outputs": [],
   "source": [
    "reviews.groupby(\"product_id\").agg(total_usuarios=pd.NamedAgg(column=\"username\", aggfunc=\"count\"),\n",
    "                                  total_horas=pd.NamedAgg(column=\"hours\", aggfunc=\"sum\"),\n",
    "                                  total_comentarios=pd.NamedAgg(column=\"text\", aggfunc=\"count\"))\\\n",
    "                                  .sort_values(\"total_usuarios\", ascending=False)"
   ]
  },
  {
   "cell_type": "code",
   "execution_count": null,
   "metadata": {},
   "outputs": [],
   "source": []
  },
  {
   "cell_type": "markdown",
   "metadata": {
    "colab_type": "text",
    "id": "04ed3teRWT0T"
   },
   "source": [
    "**Games**"
   ]
  },
  {
   "cell_type": "code",
   "execution_count": 5,
   "metadata": {
    "colab": {},
    "colab_type": "code",
    "id": "8wRb24Y5WT0U"
   },
   "outputs": [],
   "source": [
    "data_games = []\n",
    "for games in parse(\"..\\Proyecto III\\steam_games.json.gz\"):\n",
    "    data_games.append(games)\n",
    "#data_games = pd.DataFrame(data_games, columns=[ \"id\", \"app_name\", \"tags\", \"specs\", \"early_access\", \"sentiment\", \"metascore\", \"price\" ])"
   ]
  },
  {
   "cell_type": "markdown",
   "metadata": {},
   "source": [
    "Cargamos el dataset e imprimimos su ```head```."
   ]
  },
  {
   "cell_type": "code",
   "execution_count": 51,
   "metadata": {
    "colab": {},
    "colab_type": "code",
    "id": "sVR0Cs6SWT0b",
    "tags": []
   },
   "outputs": [
    {
     "output_type": "execute_result",
     "data": {
      "text/plain": "          publisher                                             genres  \\\n0         Kotoshiro      [Action, Casual, Indie, Simulation, Strategy]   \n1  Making Fun, Inc.               [Free to Play, Indie, RPG, Strategy]   \n2      Poolians.com  [Casual, Free to Play, Indie, Simulation, Sports]   \n3              彼岸领域                        [Action, Adventure, Casual]   \n4               NaN                                                NaN   \n\n                  app_name                    title  \\\n0      Lost Summoner Kitty      Lost Summoner Kitty   \n1                Ironbound                Ironbound   \n2  Real Pool 3D - Poolians  Real Pool 3D - Poolians   \n3                  弹炸人2222                  弹炸人2222   \n4            Log Challenge                      NaN   \n\n                                                 url release_date  \\\n0  http://store.steampowered.com/app/761140/Lost_...   2018-01-04   \n1  http://store.steampowered.com/app/643980/Ironb...   2018-01-04   \n2  http://store.steampowered.com/app/670290/Real_...   2017-07-24   \n3     http://store.steampowered.com/app/767400/2222/   2017-12-07   \n4  http://store.steampowered.com/app/773570/Log_C...          NaN   \n\n                                                tags  discount_price  \\\n0      [Strategy, Action, Indie, Casual, Simulation]            4.49   \n1  [Free to Play, Strategy, Indie, RPG, Card Game...             NaN   \n2  [Free to Play, Simulation, Sports, Casual, Ind...             NaN   \n3                        [Action, Adventure, Casual]            0.83   \n4                    [Action, Indie, Casual, Sports]            1.79   \n\n                                         reviews_url  \\\n0  http://steamcommunity.com/app/761140/reviews/?...   \n1  http://steamcommunity.com/app/643980/reviews/?...   \n2  http://steamcommunity.com/app/670290/reviews/?...   \n3  http://steamcommunity.com/app/767400/reviews/?...   \n4  http://steamcommunity.com/app/773570/reviews/?...   \n\n                                               specs         price  \\\n0                                    [Single-player]          4.99   \n1  [Single-player, Multi-player, Online Multi-Pla...  Free To Play   \n2  [Single-player, Multi-player, Online Multi-Pla...  Free to Play   \n3                                    [Single-player]          0.99   \n4  [Single-player, Full controller support, HTC V...          2.99   \n\n   early_access      id         developer        sentiment metascore  \n0         False  761140         Kotoshiro              NaN       NaN  \n1         False  643980  Secret Level SRL  Mostly Positive       NaN  \n2         False  670290      Poolians.com  Mostly Positive       NaN  \n3         False  767400              彼岸领域              NaN       NaN  \n4         False  773570               NaN              NaN       NaN  ",
      "text/html": "<div>\n<style scoped>\n    .dataframe tbody tr th:only-of-type {\n        vertical-align: middle;\n    }\n\n    .dataframe tbody tr th {\n        vertical-align: top;\n    }\n\n    .dataframe thead th {\n        text-align: right;\n    }\n</style>\n<table border=\"1\" class=\"dataframe\">\n  <thead>\n    <tr style=\"text-align: right;\">\n      <th></th>\n      <th>publisher</th>\n      <th>genres</th>\n      <th>app_name</th>\n      <th>title</th>\n      <th>url</th>\n      <th>release_date</th>\n      <th>tags</th>\n      <th>discount_price</th>\n      <th>reviews_url</th>\n      <th>specs</th>\n      <th>price</th>\n      <th>early_access</th>\n      <th>id</th>\n      <th>developer</th>\n      <th>sentiment</th>\n      <th>metascore</th>\n    </tr>\n  </thead>\n  <tbody>\n    <tr>\n      <th>0</th>\n      <td>Kotoshiro</td>\n      <td>[Action, Casual, Indie, Simulation, Strategy]</td>\n      <td>Lost Summoner Kitty</td>\n      <td>Lost Summoner Kitty</td>\n      <td>http://store.steampowered.com/app/761140/Lost_...</td>\n      <td>2018-01-04</td>\n      <td>[Strategy, Action, Indie, Casual, Simulation]</td>\n      <td>4.49</td>\n      <td>http://steamcommunity.com/app/761140/reviews/?...</td>\n      <td>[Single-player]</td>\n      <td>4.99</td>\n      <td>False</td>\n      <td>761140</td>\n      <td>Kotoshiro</td>\n      <td>NaN</td>\n      <td>NaN</td>\n    </tr>\n    <tr>\n      <th>1</th>\n      <td>Making Fun, Inc.</td>\n      <td>[Free to Play, Indie, RPG, Strategy]</td>\n      <td>Ironbound</td>\n      <td>Ironbound</td>\n      <td>http://store.steampowered.com/app/643980/Ironb...</td>\n      <td>2018-01-04</td>\n      <td>[Free to Play, Strategy, Indie, RPG, Card Game...</td>\n      <td>NaN</td>\n      <td>http://steamcommunity.com/app/643980/reviews/?...</td>\n      <td>[Single-player, Multi-player, Online Multi-Pla...</td>\n      <td>Free To Play</td>\n      <td>False</td>\n      <td>643980</td>\n      <td>Secret Level SRL</td>\n      <td>Mostly Positive</td>\n      <td>NaN</td>\n    </tr>\n    <tr>\n      <th>2</th>\n      <td>Poolians.com</td>\n      <td>[Casual, Free to Play, Indie, Simulation, Sports]</td>\n      <td>Real Pool 3D - Poolians</td>\n      <td>Real Pool 3D - Poolians</td>\n      <td>http://store.steampowered.com/app/670290/Real_...</td>\n      <td>2017-07-24</td>\n      <td>[Free to Play, Simulation, Sports, Casual, Ind...</td>\n      <td>NaN</td>\n      <td>http://steamcommunity.com/app/670290/reviews/?...</td>\n      <td>[Single-player, Multi-player, Online Multi-Pla...</td>\n      <td>Free to Play</td>\n      <td>False</td>\n      <td>670290</td>\n      <td>Poolians.com</td>\n      <td>Mostly Positive</td>\n      <td>NaN</td>\n    </tr>\n    <tr>\n      <th>3</th>\n      <td>彼岸领域</td>\n      <td>[Action, Adventure, Casual]</td>\n      <td>弹炸人2222</td>\n      <td>弹炸人2222</td>\n      <td>http://store.steampowered.com/app/767400/2222/</td>\n      <td>2017-12-07</td>\n      <td>[Action, Adventure, Casual]</td>\n      <td>0.83</td>\n      <td>http://steamcommunity.com/app/767400/reviews/?...</td>\n      <td>[Single-player]</td>\n      <td>0.99</td>\n      <td>False</td>\n      <td>767400</td>\n      <td>彼岸领域</td>\n      <td>NaN</td>\n      <td>NaN</td>\n    </tr>\n    <tr>\n      <th>4</th>\n      <td>NaN</td>\n      <td>NaN</td>\n      <td>Log Challenge</td>\n      <td>NaN</td>\n      <td>http://store.steampowered.com/app/773570/Log_C...</td>\n      <td>NaN</td>\n      <td>[Action, Indie, Casual, Sports]</td>\n      <td>1.79</td>\n      <td>http://steamcommunity.com/app/773570/reviews/?...</td>\n      <td>[Single-player, Full controller support, HTC V...</td>\n      <td>2.99</td>\n      <td>False</td>\n      <td>773570</td>\n      <td>NaN</td>\n      <td>NaN</td>\n      <td>NaN</td>\n    </tr>\n  </tbody>\n</table>\n</div>"
     },
     "metadata": {},
     "execution_count": 51
    }
   ],
   "source": [
    "data_games = pd.DataFrame(data_games)\n",
    "games = data_games.copy()\n",
    "games.head()"
   ]
  },
  {
   "cell_type": "markdown",
   "metadata": {},
   "source": [
    "Eliminamos las columnas innecesarias y buscamos los valores nulos."
   ]
  },
  {
   "cell_type": "code",
   "execution_count": 52,
   "metadata": {},
   "outputs": [],
   "source": [
    "games.drop(columns=[\"publisher\", \"genres\", \"reviews_url\", \"sentiment\", \"metascore\"], inplace=True)"
   ]
  },
  {
   "cell_type": "markdown",
   "metadata": {},
   "source": [
    "**Duplicados**"
   ]
  },
  {
   "cell_type": "code",
   "execution_count": 53,
   "metadata": {
    "tags": []
   },
   "outputs": [
    {
     "output_type": "stream",
     "name": "stdout",
     "text": "Total de registros duplicados: 0\n"
    },
    {
     "output_type": "execute_result",
     "data": {
      "text/plain": "                               app_name                             title  \\\n13894  Wolfenstein II: The New Colossus  Wolfenstein II: The New Colossus   \n14573  Wolfenstein II: The New Colossus  Wolfenstein II: The New Colossus   \n\n                                                     url release_date  \\\n13894          http://store.steampowered.com/app/612880/   2017-10-26   \n14573  http://store.steampowered.com/app/612880/Wolfe...   2017-10-26   \n\n                                                    tags  discount_price  \\\n13894  [Action, FPS, Gore, Violent, Alternate History...             NaN   \n14573  [Action, FPS, Gore, Violent, Alternate History...             NaN   \n\n                                                   specs  price  early_access  \\\n13894  [Single-player, Steam Achievements, Full contr...  59.99         False   \n14573  [Single-player, Steam Achievements, Full contr...  59.99         False   \n\n           id      developer  \n13894  612880  Machine Games  \n14573  612880  Machine Games  ",
      "text/html": "<div>\n<style scoped>\n    .dataframe tbody tr th:only-of-type {\n        vertical-align: middle;\n    }\n\n    .dataframe tbody tr th {\n        vertical-align: top;\n    }\n\n    .dataframe thead th {\n        text-align: right;\n    }\n</style>\n<table border=\"1\" class=\"dataframe\">\n  <thead>\n    <tr style=\"text-align: right;\">\n      <th></th>\n      <th>app_name</th>\n      <th>title</th>\n      <th>url</th>\n      <th>release_date</th>\n      <th>tags</th>\n      <th>discount_price</th>\n      <th>specs</th>\n      <th>price</th>\n      <th>early_access</th>\n      <th>id</th>\n      <th>developer</th>\n    </tr>\n  </thead>\n  <tbody>\n    <tr>\n      <th>13894</th>\n      <td>Wolfenstein II: The New Colossus</td>\n      <td>Wolfenstein II: The New Colossus</td>\n      <td>http://store.steampowered.com/app/612880/</td>\n      <td>2017-10-26</td>\n      <td>[Action, FPS, Gore, Violent, Alternate History...</td>\n      <td>NaN</td>\n      <td>[Single-player, Steam Achievements, Full contr...</td>\n      <td>59.99</td>\n      <td>False</td>\n      <td>612880</td>\n      <td>Machine Games</td>\n    </tr>\n    <tr>\n      <th>14573</th>\n      <td>Wolfenstein II: The New Colossus</td>\n      <td>Wolfenstein II: The New Colossus</td>\n      <td>http://store.steampowered.com/app/612880/Wolfe...</td>\n      <td>2017-10-26</td>\n      <td>[Action, FPS, Gore, Violent, Alternate History...</td>\n      <td>NaN</td>\n      <td>[Single-player, Steam Achievements, Full contr...</td>\n      <td>59.99</td>\n      <td>False</td>\n      <td>612880</td>\n      <td>Machine Games</td>\n    </tr>\n  </tbody>\n</table>\n</div>"
     },
     "metadata": {},
     "execution_count": 53
    }
   ],
   "source": [
    "duplicados = len(games[games.drop(columns=[\"tags\", \"specs\"]).duplicated()])\n",
    "print(f\"Total de registros duplicados: { duplicados }\")\n",
    "id = \"612880\"\n",
    "games.query(\"id == @id\")"
   ]
  },
  {
   "cell_type": "code",
   "execution_count": 54,
   "metadata": {},
   "outputs": [],
   "source": [
    "games.drop([14573], axis=0, inplace=True)"
   ]
  },
  {
   "cell_type": "markdown",
   "metadata": {},
   "source": [
    "Es importante remarcar que el ```id``` es la columna que no debemos dejar nula, junto a ```app_name```. Estas son las que nos van a vincular los dos dataset."
   ]
  },
  {
   "cell_type": "code",
   "execution_count": 55,
   "metadata": {},
   "outputs": [
    {
     "output_type": "execute_result",
     "data": {
      "text/plain": "app_name              2\ntitle              2050\nurl                   0\nrelease_date       2067\ntags                163\ndiscount_price    31909\nspecs               670\nprice              1377\nearly_access          0\nid                    2\ndeveloper          3299\ndtype: int64"
     },
     "metadata": {},
     "execution_count": 55
    }
   ],
   "source": [
    "games.isna().sum()"
   ]
  },
  {
   "cell_type": "markdown",
   "metadata": {},
   "source": [
    "Buscamos los nulos de **id** y **app_name**"
   ]
  },
  {
   "cell_type": "code",
   "execution_count": 56,
   "metadata": {},
   "outputs": [
    {
     "output_type": "execute_result",
     "data": {
      "text/plain": "                                             app_name  \\\n74                                                NaN   \n2580                                              NaN   \n30961  Batman: Arkham City - Game of the Year Edition   \n\n                                                title  \\\n74                                                NaN   \n2580                                              NaN   \n30961  Batman: Arkham City - Game of the Year Edition   \n\n                                               url release_date  \\\n74                  http://store.steampowered.com/          NaN   \n2580   http://store.steampowered.com/app/317160/_/   2014-08-26   \n30961     http://store.steampowered.com/app/200260   2012-09-07   \n\n                                                    tags  discount_price  \\\n74                                                   NaN           14.99   \n2580                                     [Action, Indie]             NaN   \n30961  [Action, Open World, Batman, Adventure, Stealt...             NaN   \n\n                                                   specs  price  early_access  \\\n74                                                   NaN  19.99         False   \n2580                          [Single-player, Game demo]    NaN         False   \n30961  [Single-player, Steam Achievements, Steam Trad...  19.99         False   \n\n           id                                   developer  \n74        NaN                                         NaN  \n2580   317160                                         NaN  \n30961     NaN  Rocksteady Studios,Feral Interactive (Mac)  ",
      "text/html": "<div>\n<style scoped>\n    .dataframe tbody tr th:only-of-type {\n        vertical-align: middle;\n    }\n\n    .dataframe tbody tr th {\n        vertical-align: top;\n    }\n\n    .dataframe thead th {\n        text-align: right;\n    }\n</style>\n<table border=\"1\" class=\"dataframe\">\n  <thead>\n    <tr style=\"text-align: right;\">\n      <th></th>\n      <th>app_name</th>\n      <th>title</th>\n      <th>url</th>\n      <th>release_date</th>\n      <th>tags</th>\n      <th>discount_price</th>\n      <th>specs</th>\n      <th>price</th>\n      <th>early_access</th>\n      <th>id</th>\n      <th>developer</th>\n    </tr>\n  </thead>\n  <tbody>\n    <tr>\n      <th>74</th>\n      <td>NaN</td>\n      <td>NaN</td>\n      <td>http://store.steampowered.com/</td>\n      <td>NaN</td>\n      <td>NaN</td>\n      <td>14.99</td>\n      <td>NaN</td>\n      <td>19.99</td>\n      <td>False</td>\n      <td>NaN</td>\n      <td>NaN</td>\n    </tr>\n    <tr>\n      <th>2580</th>\n      <td>NaN</td>\n      <td>NaN</td>\n      <td>http://store.steampowered.com/app/317160/_/</td>\n      <td>2014-08-26</td>\n      <td>[Action, Indie]</td>\n      <td>NaN</td>\n      <td>[Single-player, Game demo]</td>\n      <td>NaN</td>\n      <td>False</td>\n      <td>317160</td>\n      <td>NaN</td>\n    </tr>\n    <tr>\n      <th>30961</th>\n      <td>Batman: Arkham City - Game of the Year Edition</td>\n      <td>Batman: Arkham City - Game of the Year Edition</td>\n      <td>http://store.steampowered.com/app/200260</td>\n      <td>2012-09-07</td>\n      <td>[Action, Open World, Batman, Adventure, Stealt...</td>\n      <td>NaN</td>\n      <td>[Single-player, Steam Achievements, Steam Trad...</td>\n      <td>19.99</td>\n      <td>False</td>\n      <td>NaN</td>\n      <td>Rocksteady Studios,Feral Interactive (Mac)</td>\n    </tr>\n  </tbody>\n</table>\n</div>"
     },
     "metadata": {},
     "execution_count": 56
    }
   ],
   "source": [
    "games.query('app_name.isna() | id.isna()', engine='python')"
   ]
  },
  {
   "source": [
    "Podemos corroborar que el registro 74 comparte nulidad en id y app_name. Prodecemos a eliminarlo y vamos a tratar de completar los datos faltantes de los otros registros. "
   ],
   "cell_type": "markdown",
   "metadata": {}
  },
  {
   "cell_type": "code",
   "execution_count": 57,
   "metadata": {},
   "outputs": [
    {
     "output_type": "execute_result",
     "data": {
      "text/plain": "                                             app_name  \\\n2580                                              NaN   \n30961  Batman: Arkham City - Game of the Year Edition   \n\n                                                title  \\\n2580                                              NaN   \n30961  Batman: Arkham City - Game of the Year Edition   \n\n                                               url release_date  \\\n2580   http://store.steampowered.com/app/317160/_/   2014-08-26   \n30961     http://store.steampowered.com/app/200260   2012-09-07   \n\n                                                    tags  discount_price  \\\n2580                                     [Action, Indie]             NaN   \n30961  [Action, Open World, Batman, Adventure, Stealt...             NaN   \n\n                                                   specs  price  early_access  \\\n2580                          [Single-player, Game demo]    NaN         False   \n30961  [Single-player, Steam Achievements, Steam Trad...  19.99         False   \n\n           id                                   developer  \n2580   317160                                         NaN  \n30961     NaN  Rocksteady Studios,Feral Interactive (Mac)  ",
      "text/html": "<div>\n<style scoped>\n    .dataframe tbody tr th:only-of-type {\n        vertical-align: middle;\n    }\n\n    .dataframe tbody tr th {\n        vertical-align: top;\n    }\n\n    .dataframe thead th {\n        text-align: right;\n    }\n</style>\n<table border=\"1\" class=\"dataframe\">\n  <thead>\n    <tr style=\"text-align: right;\">\n      <th></th>\n      <th>app_name</th>\n      <th>title</th>\n      <th>url</th>\n      <th>release_date</th>\n      <th>tags</th>\n      <th>discount_price</th>\n      <th>specs</th>\n      <th>price</th>\n      <th>early_access</th>\n      <th>id</th>\n      <th>developer</th>\n    </tr>\n  </thead>\n  <tbody>\n    <tr>\n      <th>2580</th>\n      <td>NaN</td>\n      <td>NaN</td>\n      <td>http://store.steampowered.com/app/317160/_/</td>\n      <td>2014-08-26</td>\n      <td>[Action, Indie]</td>\n      <td>NaN</td>\n      <td>[Single-player, Game demo]</td>\n      <td>NaN</td>\n      <td>False</td>\n      <td>317160</td>\n      <td>NaN</td>\n    </tr>\n    <tr>\n      <th>30961</th>\n      <td>Batman: Arkham City - Game of the Year Edition</td>\n      <td>Batman: Arkham City - Game of the Year Edition</td>\n      <td>http://store.steampowered.com/app/200260</td>\n      <td>2012-09-07</td>\n      <td>[Action, Open World, Batman, Adventure, Stealt...</td>\n      <td>NaN</td>\n      <td>[Single-player, Steam Achievements, Steam Trad...</td>\n      <td>19.99</td>\n      <td>False</td>\n      <td>NaN</td>\n      <td>Rocksteady Studios,Feral Interactive (Mac)</td>\n    </tr>\n  </tbody>\n</table>\n</div>"
     },
     "metadata": {},
     "execution_count": 57
    }
   ],
   "source": [
    "games.drop([74], axis=0, inplace=True)\n",
    "games.query('app_name.isna() | id.isna()', engine='python')"
   ]
  },
  {
   "source": [
    "De estos dos registros, el primero de ellos tiene nulo el app_name, en cambio el otro solo el id.\n",
    "\n",
    "En ambos casos, buscamos a través de la url proporcionada información oficial (web de steam) sobre el nombre del juego o el id. La url de cada juego nos brinda información importante también ya que en la misma incluye el id y el nombre del juego."
   ],
   "cell_type": "markdown",
   "metadata": {}
  },
  {
   "cell_type": "code",
   "execution_count": 64,
   "metadata": {
    "tags": []
   },
   "outputs": [
    {
     "output_type": "stream",
     "name": "stdout",
     "text": "http://store.steampowered.com/app/317160/_/\n"
    }
   ],
   "source": [
    "print(games.loc[2580,:].url)"
   ]
  },
  {
   "source": [
    "De esta url no podemos inferir el nombre del juego, ingresando en la misma si podemos corroborar esto. El juego en cuestión es un demo llamado **Duet**. Tratamos de inspeccionar en la base de datos información sobre este juego."
   ],
   "cell_type": "markdown",
   "metadata": {}
  },
  {
   "cell_type": "code",
   "execution_count": 68,
   "metadata": {
    "tags": []
   },
   "outputs": [
    {
     "output_type": "execute_result",
     "data": {
      "text/plain": "     app_name title                                             url  \\\n4103     Duet  Duet  http://store.steampowered.com/app/292600/Duet/   \n\n     release_date                                               tags  \\\n4103   2015-08-03  [Indie, Action, Minimalist, Great Soundtrack, ...   \n\n      discount_price                                              specs price  \\\n4103             NaN  [Single-player, Steam Achievements, Full contr...  4.99   \n\n      early_access      id developer  \n4103         False  292600  Kumobius  ",
      "text/html": "<div>\n<style scoped>\n    .dataframe tbody tr th:only-of-type {\n        vertical-align: middle;\n    }\n\n    .dataframe tbody tr th {\n        vertical-align: top;\n    }\n\n    .dataframe thead th {\n        text-align: right;\n    }\n</style>\n<table border=\"1\" class=\"dataframe\">\n  <thead>\n    <tr style=\"text-align: right;\">\n      <th></th>\n      <th>app_name</th>\n      <th>title</th>\n      <th>url</th>\n      <th>release_date</th>\n      <th>tags</th>\n      <th>discount_price</th>\n      <th>specs</th>\n      <th>price</th>\n      <th>early_access</th>\n      <th>id</th>\n      <th>developer</th>\n    </tr>\n  </thead>\n  <tbody>\n    <tr>\n      <th>4103</th>\n      <td>Duet</td>\n      <td>Duet</td>\n      <td>http://store.steampowered.com/app/292600/Duet/</td>\n      <td>2015-08-03</td>\n      <td>[Indie, Action, Minimalist, Great Soundtrack, ...</td>\n      <td>NaN</td>\n      <td>[Single-player, Steam Achievements, Full contr...</td>\n      <td>4.99</td>\n      <td>False</td>\n      <td>292600</td>\n      <td>Kumobius</td>\n    </tr>\n  </tbody>\n</table>\n</div>"
     },
     "metadata": {},
     "execution_count": 68
    }
   ],
   "source": [
    "app_name = \"Duet\"\n",
    "games.query('@app_name == app_name')"
   ]
  },
  {
   "source": [
    "Antes de eliminarlo deberiamos corroborar que el mismo no tenga ninguna review. De todos modos, es un demo de otro juego por lo tanto podriamos apuntar las reviews al juego final."
   ],
   "cell_type": "markdown",
   "metadata": {}
  },
  {
   "cell_type": "code",
   "execution_count": 70,
   "metadata": {
    "tags": []
   },
   "outputs": [
    {
     "output_type": "stream",
     "name": "stdout",
     "text": "http://store.steampowered.com/app/200260\n"
    }
   ],
   "source": [
    "print(games.loc[30961,:].url)"
   ]
  },
  {
   "source": [
    "Al inspeccionar la url, verificamos que si corresponde los datos que nos indica el registro."
   ],
   "cell_type": "markdown",
   "metadata": {}
  },
  {
   "cell_type": "code",
   "execution_count": 72,
   "metadata": {},
   "outputs": [
    {
     "output_type": "execute_result",
     "data": {
      "text/plain": "                                             app_name  \\\n30961  Batman: Arkham City - Game of the Year Edition   \n\n                                                title  \\\n30961  Batman: Arkham City - Game of the Year Edition   \n\n                                            url release_date  \\\n30961  http://store.steampowered.com/app/200260   2012-09-07   \n\n                                                    tags  discount_price  \\\n30961  [Action, Open World, Batman, Adventure, Stealt...             NaN   \n\n                                                   specs  price  early_access  \\\n30961  [Single-player, Steam Achievements, Steam Trad...  19.99         False   \n\n        id                                   developer  \n30961  NaN  Rocksteady Studios,Feral Interactive (Mac)  ",
      "text/html": "<div>\n<style scoped>\n    .dataframe tbody tr th:only-of-type {\n        vertical-align: middle;\n    }\n\n    .dataframe tbody tr th {\n        vertical-align: top;\n    }\n\n    .dataframe thead th {\n        text-align: right;\n    }\n</style>\n<table border=\"1\" class=\"dataframe\">\n  <thead>\n    <tr style=\"text-align: right;\">\n      <th></th>\n      <th>app_name</th>\n      <th>title</th>\n      <th>url</th>\n      <th>release_date</th>\n      <th>tags</th>\n      <th>discount_price</th>\n      <th>specs</th>\n      <th>price</th>\n      <th>early_access</th>\n      <th>id</th>\n      <th>developer</th>\n    </tr>\n  </thead>\n  <tbody>\n    <tr>\n      <th>30961</th>\n      <td>Batman: Arkham City - Game of the Year Edition</td>\n      <td>Batman: Arkham City - Game of the Year Edition</td>\n      <td>http://store.steampowered.com/app/200260</td>\n      <td>2012-09-07</td>\n      <td>[Action, Open World, Batman, Adventure, Stealt...</td>\n      <td>NaN</td>\n      <td>[Single-player, Steam Achievements, Steam Trad...</td>\n      <td>19.99</td>\n      <td>False</td>\n      <td>NaN</td>\n      <td>Rocksteady Studios,Feral Interactive (Mac)</td>\n    </tr>\n  </tbody>\n</table>\n</div>"
     },
     "metadata": {},
     "execution_count": 72
    }
   ],
   "source": [
    "url = \"http://store.steampowered.com/app/200260\"\n",
    "games.query('url == @url')"
   ]
  },
  {
   "source": [
    "Procedemos a analizar los datos de developer."
   ],
   "cell_type": "markdown",
   "metadata": {}
  },
  {
   "cell_type": "code",
   "execution_count": 48,
   "metadata": {},
   "outputs": [
    {
     "output_type": "execute_result",
     "data": {
      "text/plain": "                                             app_name  \\\n1068   Batman: Arkham City - Game of the Year Edition   \n30961  Batman: Arkham City - Game of the Year Edition   \n31617  Batman: Arkham Asylum Game of the Year Edition   \n\n                                                title  \\\n1068   Batman: Arkham City - Game of the Year Edition   \n30961  Batman: Arkham City - Game of the Year Edition   \n31617  Batman: Arkham Asylum Game of the Year Edition   \n\n                                                     url release_date  \\\n1068   http://store.steampowered.com/app/200260/Batma...   2012-09-07   \n30961           http://store.steampowered.com/app/200260   2012-09-07   \n31617  http://store.steampowered.com/app/35140/Batman...   2010-03-26   \n\n                                                    tags  discount_price  \\\n1068   [Action, Open World, Batman, Adventure, Stealt...             NaN   \n30961  [Action, Open World, Batman, Adventure, Stealt...             NaN   \n31617  [Action, Batman, Stealth, Adventure, Third Per...             NaN   \n\n                                                   specs  price  early_access  \\\n1068   [Single-player, Steam Achievements, Steam Trad...  19.99         False   \n30961  [Single-player, Steam Achievements, Steam Trad...  19.99         False   \n31617  [Single-player, Steam Achievements, Steam Trad...  19.99         False   \n\n           id                                   developer  \n1068   200260  Rocksteady Studios,Feral Interactive (Mac)  \n30961     NaN  Rocksteady Studios,Feral Interactive (Mac)  \n31617   35140  Rocksteady Studios,Feral Interactive (Mac)  ",
      "text/html": "<div>\n<style scoped>\n    .dataframe tbody tr th:only-of-type {\n        vertical-align: middle;\n    }\n\n    .dataframe tbody tr th {\n        vertical-align: top;\n    }\n\n    .dataframe thead th {\n        text-align: right;\n    }\n</style>\n<table border=\"1\" class=\"dataframe\">\n  <thead>\n    <tr style=\"text-align: right;\">\n      <th></th>\n      <th>app_name</th>\n      <th>title</th>\n      <th>url</th>\n      <th>release_date</th>\n      <th>tags</th>\n      <th>discount_price</th>\n      <th>specs</th>\n      <th>price</th>\n      <th>early_access</th>\n      <th>id</th>\n      <th>developer</th>\n    </tr>\n  </thead>\n  <tbody>\n    <tr>\n      <th>1068</th>\n      <td>Batman: Arkham City - Game of the Year Edition</td>\n      <td>Batman: Arkham City - Game of the Year Edition</td>\n      <td>http://store.steampowered.com/app/200260/Batma...</td>\n      <td>2012-09-07</td>\n      <td>[Action, Open World, Batman, Adventure, Stealt...</td>\n      <td>NaN</td>\n      <td>[Single-player, Steam Achievements, Steam Trad...</td>\n      <td>19.99</td>\n      <td>False</td>\n      <td>200260</td>\n      <td>Rocksteady Studios,Feral Interactive (Mac)</td>\n    </tr>\n    <tr>\n      <th>30961</th>\n      <td>Batman: Arkham City - Game of the Year Edition</td>\n      <td>Batman: Arkham City - Game of the Year Edition</td>\n      <td>http://store.steampowered.com/app/200260</td>\n      <td>2012-09-07</td>\n      <td>[Action, Open World, Batman, Adventure, Stealt...</td>\n      <td>NaN</td>\n      <td>[Single-player, Steam Achievements, Steam Trad...</td>\n      <td>19.99</td>\n      <td>False</td>\n      <td>NaN</td>\n      <td>Rocksteady Studios,Feral Interactive (Mac)</td>\n    </tr>\n    <tr>\n      <th>31617</th>\n      <td>Batman: Arkham Asylum Game of the Year Edition</td>\n      <td>Batman: Arkham Asylum Game of the Year Edition</td>\n      <td>http://store.steampowered.com/app/35140/Batman...</td>\n      <td>2010-03-26</td>\n      <td>[Action, Batman, Stealth, Adventure, Third Per...</td>\n      <td>NaN</td>\n      <td>[Single-player, Steam Achievements, Steam Trad...</td>\n      <td>19.99</td>\n      <td>False</td>\n      <td>35140</td>\n      <td>Rocksteady Studios,Feral Interactive (Mac)</td>\n    </tr>\n  </tbody>\n</table>\n</div>"
     },
     "metadata": {},
     "execution_count": 48
    }
   ],
   "source": [
    "developer = 'Rocksteady Studios,Feral Interactive (Mac)'\n",
    "games.query('developer == @developer')"
   ]
  },
  {
   "source": [
    "Al buscar por el developer encontramos un registro correspondiente al mismo juego (30961 y 31617). En este caso,buscamos registros duplicados de los juegos unicamente por medio del nombre del juego."
   ],
   "cell_type": "markdown",
   "metadata": {}
  },
  {
   "cell_type": "code",
   "execution_count": 103,
   "metadata": {
    "tags": []
   },
   "outputs": [
    {
     "output_type": "stream",
     "name": "stdout",
     "text": "Existen 38 juegos duplicados por nombre.\n"
    },
    {
     "output_type": "execute_result",
     "data": {
      "text/plain": "                                             app_name  \\\n30179  Aliens: Colonial Marines - Reconnaissance Pack   \n30961  Batman: Arkham City - Game of the Year Edition   \n13421                                     Escape Room   \n20989                           Invisible Apartment 2   \n31997                               MORE SWEATER? OK!   \n1509                     The Dream Machine: Chapter 4   \n27089                         Total Extreme Wrestling   \n\n                                                title  \\\n30179  Aliens: Colonial Marines - Reconnaissance Pack   \n30961  Batman: Arkham City - Game of the Year Edition   \n13421                                             NaN   \n20989                           Invisible Apartment 2   \n31997                               MORE SWEATER? OK!   \n1509                     The Dream Machine: Chapter 4   \n27089                         Total Extreme Wrestling   \n\n                                                     url release_date  \\\n30179  http://store.steampowered.com/app/219441/Alien...   2013-05-07   \n30961           http://store.steampowered.com/app/200260   2012-09-07   \n13421  http://store.steampowered.com/app/758210/Escap...          NaN   \n20989  http://store.steampowered.com/app/543220/Invis...   2016-10-17   \n31997  http://store.steampowered.com/app/746050/MORE_...   2017-12-29   \n1509   http://store.steampowered.com/app/94304/The_Dr...   2013-08-05   \n27089  http://store.steampowered.com/app/344810/Total...   2015-03-19   \n\n                                                    tags  discount_price  \\\n30179                                           [Action]             NaN   \n30961  [Action, Open World, Batman, Adventure, Stealt...             NaN   \n13421          [Early Access, Adventure, Simulation, VR]             NaN   \n20989  [Adventure, Indie, Free to Play, Visual Novel,...             NaN   \n31997  [Casual, Action, Indie, RPG, Simulation, Singl...            1.59   \n1509                          [Adventure, Indie, Casual]             NaN   \n27089        [Wrestling, Simulation, Sports, Management]             NaN   \n\n                                                   specs  price  early_access  \\\n30179  [Single-player, Multi-player, Co-op, Downloada...  29.99         False   \n30961  [Single-player, Steam Achievements, Steam Trad...  19.99         False   \n13421  [Single-player, HTC Vive, Tracked Motion Contr...   Free          True   \n20989              [Single-player, Downloadable Content]   7.99         False   \n31997  [Single-player, Steam Cloud, Stats, Steam Lead...   1.99         False   \n1509   [Single-player, Downloadable Content, Steam Tr...    NaN         False   \n27089                                    [Single-player]  19.99         False   \n\n           id                                   developer  \n30179  219441                            Gearbox Software  \n30961     NaN  Rocksteady Studios,Feral Interactive (Mac)  \n13421  758210                                         NaN  \n20989  543220             Milan Kazarka,Jeroen van Oosten  \n31997  746050                          Triple-Star Studio  \n1509    94304                              Cockroach Inc.  \n27089  344810                           Grey Dog Software  ",
      "text/html": "<div>\n<style scoped>\n    .dataframe tbody tr th:only-of-type {\n        vertical-align: middle;\n    }\n\n    .dataframe tbody tr th {\n        vertical-align: top;\n    }\n\n    .dataframe thead th {\n        text-align: right;\n    }\n</style>\n<table border=\"1\" class=\"dataframe\">\n  <thead>\n    <tr style=\"text-align: right;\">\n      <th></th>\n      <th>app_name</th>\n      <th>title</th>\n      <th>url</th>\n      <th>release_date</th>\n      <th>tags</th>\n      <th>discount_price</th>\n      <th>specs</th>\n      <th>price</th>\n      <th>early_access</th>\n      <th>id</th>\n      <th>developer</th>\n    </tr>\n  </thead>\n  <tbody>\n    <tr>\n      <th>30179</th>\n      <td>Aliens: Colonial Marines - Reconnaissance Pack</td>\n      <td>Aliens: Colonial Marines - Reconnaissance Pack</td>\n      <td>http://store.steampowered.com/app/219441/Alien...</td>\n      <td>2013-05-07</td>\n      <td>[Action]</td>\n      <td>NaN</td>\n      <td>[Single-player, Multi-player, Co-op, Downloada...</td>\n      <td>29.99</td>\n      <td>False</td>\n      <td>219441</td>\n      <td>Gearbox Software</td>\n    </tr>\n    <tr>\n      <th>30961</th>\n      <td>Batman: Arkham City - Game of the Year Edition</td>\n      <td>Batman: Arkham City - Game of the Year Edition</td>\n      <td>http://store.steampowered.com/app/200260</td>\n      <td>2012-09-07</td>\n      <td>[Action, Open World, Batman, Adventure, Stealt...</td>\n      <td>NaN</td>\n      <td>[Single-player, Steam Achievements, Steam Trad...</td>\n      <td>19.99</td>\n      <td>False</td>\n      <td>NaN</td>\n      <td>Rocksteady Studios,Feral Interactive (Mac)</td>\n    </tr>\n    <tr>\n      <th>13421</th>\n      <td>Escape Room</td>\n      <td>NaN</td>\n      <td>http://store.steampowered.com/app/758210/Escap...</td>\n      <td>NaN</td>\n      <td>[Early Access, Adventure, Simulation, VR]</td>\n      <td>NaN</td>\n      <td>[Single-player, HTC Vive, Tracked Motion Contr...</td>\n      <td>Free</td>\n      <td>True</td>\n      <td>758210</td>\n      <td>NaN</td>\n    </tr>\n    <tr>\n      <th>20989</th>\n      <td>Invisible Apartment 2</td>\n      <td>Invisible Apartment 2</td>\n      <td>http://store.steampowered.com/app/543220/Invis...</td>\n      <td>2016-10-17</td>\n      <td>[Adventure, Indie, Free to Play, Visual Novel,...</td>\n      <td>NaN</td>\n      <td>[Single-player, Downloadable Content]</td>\n      <td>7.99</td>\n      <td>False</td>\n      <td>543220</td>\n      <td>Milan Kazarka,Jeroen van Oosten</td>\n    </tr>\n    <tr>\n      <th>31997</th>\n      <td>MORE SWEATER? OK!</td>\n      <td>MORE SWEATER? OK!</td>\n      <td>http://store.steampowered.com/app/746050/MORE_...</td>\n      <td>2017-12-29</td>\n      <td>[Casual, Action, Indie, RPG, Simulation, Singl...</td>\n      <td>1.59</td>\n      <td>[Single-player, Steam Cloud, Stats, Steam Lead...</td>\n      <td>1.99</td>\n      <td>False</td>\n      <td>746050</td>\n      <td>Triple-Star Studio</td>\n    </tr>\n    <tr>\n      <th>1509</th>\n      <td>The Dream Machine: Chapter 4</td>\n      <td>The Dream Machine: Chapter 4</td>\n      <td>http://store.steampowered.com/app/94304/The_Dr...</td>\n      <td>2013-08-05</td>\n      <td>[Adventure, Indie, Casual]</td>\n      <td>NaN</td>\n      <td>[Single-player, Downloadable Content, Steam Tr...</td>\n      <td>NaN</td>\n      <td>False</td>\n      <td>94304</td>\n      <td>Cockroach Inc.</td>\n    </tr>\n    <tr>\n      <th>27089</th>\n      <td>Total Extreme Wrestling</td>\n      <td>Total Extreme Wrestling</td>\n      <td>http://store.steampowered.com/app/344810/Total...</td>\n      <td>2015-03-19</td>\n      <td>[Wrestling, Simulation, Sports, Management]</td>\n      <td>NaN</td>\n      <td>[Single-player]</td>\n      <td>19.99</td>\n      <td>False</td>\n      <td>344810</td>\n      <td>Grey Dog Software</td>\n    </tr>\n  </tbody>\n</table>\n</div>"
     },
     "metadata": {},
     "execution_count": 103
    }
   ],
   "source": [
    "print(f'Existen { len(games[games[\"app_name\"].duplicated()]) } juegos duplicados por nombre.')\n",
    "games[games[['app_name', \"developer\"]].duplicated()].sort_values('app_name', ascending=True)"
   ]
  },
  {
   "source": [
    "Analiza"
   ],
   "cell_type": "markdown",
   "metadata": {}
  },
  {
   "cell_type": "code",
   "execution_count": 102,
   "metadata": {},
   "outputs": [
    {
     "output_type": "execute_result",
     "data": {
      "text/plain": "                                             app_name  \\\n30178  Aliens: Colonial Marines - Reconnaissance Pack   \n30179  Aliens: Colonial Marines - Reconnaissance Pack   \n\n                                                title  \\\n30178  Aliens: Colonial Marines - Reconnaissance Pack   \n30179  Aliens: Colonial Marines - Reconnaissance Pack   \n\n                                                     url release_date  \\\n30178  http://store.steampowered.com/app/224850/Alien...   2013-05-07   \n30179  http://store.steampowered.com/app/219441/Alien...   2013-05-07   \n\n           tags  discount_price  \\\n30178  [Action]             NaN   \n30179  [Action]             NaN   \n\n                                                   specs  price  early_access  \\\n30178  [Single-player, Multi-player, Co-op, Downloada...    NaN         False   \n30179  [Single-player, Multi-player, Co-op, Downloada...  29.99         False   \n\n           id         developer  \n30178  224850  Gearbox Software  \n30179  219441  Gearbox Software  ",
      "text/html": "<div>\n<style scoped>\n    .dataframe tbody tr th:only-of-type {\n        vertical-align: middle;\n    }\n\n    .dataframe tbody tr th {\n        vertical-align: top;\n    }\n\n    .dataframe thead th {\n        text-align: right;\n    }\n</style>\n<table border=\"1\" class=\"dataframe\">\n  <thead>\n    <tr style=\"text-align: right;\">\n      <th></th>\n      <th>app_name</th>\n      <th>title</th>\n      <th>url</th>\n      <th>release_date</th>\n      <th>tags</th>\n      <th>discount_price</th>\n      <th>specs</th>\n      <th>price</th>\n      <th>early_access</th>\n      <th>id</th>\n      <th>developer</th>\n    </tr>\n  </thead>\n  <tbody>\n    <tr>\n      <th>30178</th>\n      <td>Aliens: Colonial Marines - Reconnaissance Pack</td>\n      <td>Aliens: Colonial Marines - Reconnaissance Pack</td>\n      <td>http://store.steampowered.com/app/224850/Alien...</td>\n      <td>2013-05-07</td>\n      <td>[Action]</td>\n      <td>NaN</td>\n      <td>[Single-player, Multi-player, Co-op, Downloada...</td>\n      <td>NaN</td>\n      <td>False</td>\n      <td>224850</td>\n      <td>Gearbox Software</td>\n    </tr>\n    <tr>\n      <th>30179</th>\n      <td>Aliens: Colonial Marines - Reconnaissance Pack</td>\n      <td>Aliens: Colonial Marines - Reconnaissance Pack</td>\n      <td>http://store.steampowered.com/app/219441/Alien...</td>\n      <td>2013-05-07</td>\n      <td>[Action]</td>\n      <td>NaN</td>\n      <td>[Single-player, Multi-player, Co-op, Downloada...</td>\n      <td>29.99</td>\n      <td>False</td>\n      <td>219441</td>\n      <td>Gearbox Software</td>\n    </tr>\n  </tbody>\n</table>\n</div>"
     },
     "metadata": {},
     "execution_count": 102
    }
   ],
   "source": [
    "games.query('app_name == \"Aliens: Colonial Marines - Reconnaissance Pack\"')"
   ]
  },
  {
   "cell_type": "code",
   "execution_count": 12,
   "metadata": {},
   "outputs": [
    {
     "output_type": "execute_result",
     "data": {
      "text/plain": "                                        juegos_publicados\ndeveloper                                                \nUbisoft - San Francisco                              1259\nSmiteWorks USA, LLC                                   813\nDovetail Games                                        253\nKOEI TECMO GAMES CO., LTD.                            232\nParadox Development Studio                            156\n...                                                   ...\nIlja Saburov                                            1\nIlex Games                                              1\nIhor Kalinin                                            1\nIguana Entertainment,Nightdive Studios                  1\nLorraine Studio                                         1\n\n[10992 rows x 1 columns]",
      "text/html": "<div>\n<style scoped>\n    .dataframe tbody tr th:only-of-type {\n        vertical-align: middle;\n    }\n\n    .dataframe tbody tr th {\n        vertical-align: top;\n    }\n\n    .dataframe thead th {\n        text-align: right;\n    }\n</style>\n<table border=\"1\" class=\"dataframe\">\n  <thead>\n    <tr style=\"text-align: right;\">\n      <th></th>\n      <th>juegos_publicados</th>\n    </tr>\n    <tr>\n      <th>developer</th>\n      <th></th>\n    </tr>\n  </thead>\n  <tbody>\n    <tr>\n      <th>Ubisoft - San Francisco</th>\n      <td>1259</td>\n    </tr>\n    <tr>\n      <th>SmiteWorks USA, LLC</th>\n      <td>813</td>\n    </tr>\n    <tr>\n      <th>Dovetail Games</th>\n      <td>253</td>\n    </tr>\n    <tr>\n      <th>KOEI TECMO GAMES CO., LTD.</th>\n      <td>232</td>\n    </tr>\n    <tr>\n      <th>Paradox Development Studio</th>\n      <td>156</td>\n    </tr>\n    <tr>\n      <th>...</th>\n      <td>...</td>\n    </tr>\n    <tr>\n      <th>Ilja Saburov</th>\n      <td>1</td>\n    </tr>\n    <tr>\n      <th>Ilex Games</th>\n      <td>1</td>\n    </tr>\n    <tr>\n      <th>Ihor Kalinin</th>\n      <td>1</td>\n    </tr>\n    <tr>\n      <th>Iguana Entertainment,Nightdive Studios</th>\n      <td>1</td>\n    </tr>\n    <tr>\n      <th>Lorraine Studio</th>\n      <td>1</td>\n    </tr>\n  </tbody>\n</table>\n<p>10992 rows × 1 columns</p>\n</div>"
     },
     "metadata": {},
     "execution_count": 12
    }
   ],
   "source": [
    "games.groupby(\"developer\").agg(juegos_publicados=pd.NamedAgg(column=\"early_access\", aggfunc=\"count\")).sort_values(\"juegos_publicados\", ascending=False)"
   ]
  }
 ],
 "metadata": {
  "colab": {
   "collapsed_sections": [],
   "name": "DS_Proyecto_03_SR.ipynb",
   "provenance": []
  },
  "kernelspec": {
   "display_name": "Python 3",
   "language": "python",
   "name": "python3"
  },
  "language_info": {
   "codemirror_mode": {
    "name": "ipython",
    "version": 3
   },
   "file_extension": ".py",
   "mimetype": "text/x-python",
   "name": "python",
   "nbconvert_exporter": "python",
   "pygments_lexer": "ipython3",
   "version": "3.8.5-final"
  },
  "toc": {
   "base_numbering": 1,
   "nav_menu": {},
   "number_sections": true,
   "sideBar": true,
   "skip_h1_title": false,
   "title_cell": "Table of Contents",
   "title_sidebar": "Contents",
   "toc_cell": true,
   "toc_position": {},
   "toc_section_display": true,
   "toc_window_display": false
  }
 },
 "nbformat": 4,
 "nbformat_minor": 1
}